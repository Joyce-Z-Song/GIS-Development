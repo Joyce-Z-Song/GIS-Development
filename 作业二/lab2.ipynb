{
 "cells": [
  {
   "cell_type": "markdown",
   "metadata": {},
   "source": [
    "### 分析地震影响的城市 代码整合"
   ]
  },
  {
   "cell_type": "code",
   "execution_count": 1,
   "metadata": {},
   "outputs": [],
   "source": [
    "# 引入模块与第三方包\n",
    "import fiona\n",
    "from pyproj import CRS, Transformer\n",
    "from shapely.geometry import Point\n",
    "import os\n",
    "import pprint\n",
    "\n",
    "# 读取 china_cities.shp 矢量文件\n",
    "cities = fiona.open('./GeoData/china_cities.shp', 'r')\n",
    "\n",
    "# 获取原始矢量文件的 driver, crs, schema 等参数\n",
    "source_driver = cities.driver\n",
    "source_crs = cities.crs\n",
    "source_schema = cities.schema\n",
    "\n",
    "# 建立 WGS84 地理坐标系\n",
    "wgs = CRS.from_proj4(\"+proj=longlat +datum=WGS84 +no_defs\")\n",
    "\n",
    "# 构建 WGS84 地理坐标系转 Albers 投影坐标系的 Transformer\n",
    "transformer_wgs2albers = Transformer.from_crs(wgs,cities.crs,always_xy=True)\n",
    "\n",
    "# 将经纬度点转化为 Albers 投影坐标系的坐标值\n",
    "point = (101, 27)\n",
    "point_prj = transformer_wgs2albers.transform(point[0], point[1])\n",
    "\n",
    "# 根据点坐标值实例化 shapely.geometry.Point 对象\n",
    "point_prj = Point(point_prj)\n",
    "\n",
    "# 创建 buffer 对象\n",
    "point_buffer = point_prj.buffer(300000)\n",
    "\n",
    "# 生成输出矢量文件，driver, crs, schema 等参数与 china_cities.shp 矢量文件相同，使用 'utf-8' 编码避免中文属性值乱码\n",
    "target = fiona.open('./GeoData/influenced_points.shp', 'w', encoding='utf-8',\n",
    "                    driver=source_driver,\n",
    "                    crs=source_crs, \n",
    "                    schema=source_schema)\n",
    "\n",
    "# 循环遍历 china_cities.shp 中所有点，找寻在 buffer 区域内的点对象，并保存到新文件中\n",
    "for record in cities:\n",
    "    coordinates = record['geometry']['coordinates']\n",
    "    point = Point(coordinates)\n",
    "    if point_buffer.contains(point):\n",
    "        print(record['properties']['NAME'])\n",
    "        target.write(record)\n",
    "\n",
    "# 保存并关闭文件\n",
    "target.close()\n",
    "cities.close()"
   ]
  },
  {
   "cell_type": "markdown",
   "metadata": {},
   "source": [
    "### 分析地震影响的城市 分步调试"
   ]
  },
  {
   "cell_type": "code",
   "execution_count": 1,
   "metadata": {},
   "outputs": [],
   "source": [
    "# 引入模块与第三方包\n",
    "import fiona\n",
    "from pyproj import CRS, Transformer\n",
    "from shapely.geometry import Point\n",
    "import os\n",
    "import pprint"
   ]
  },
  {
   "cell_type": "code",
   "execution_count": 2,
   "metadata": {},
   "outputs": [],
   "source": [
    "# 读取 china_cities.shp 矢量文件\n",
    "cities = fiona.open('./GeoData/china_cities.shp', 'r')"
   ]
  },
  {
   "cell_type": "code",
   "execution_count": 3,
   "metadata": {},
   "outputs": [
    {
     "name": "stdout",
     "output_type": "stream",
     "text": [
      "schema_geometry: Point\n"
     ]
    }
   ],
   "source": [
    "# 查看矢量文件的类型：Point 对象\n",
    "print('schema_geometry:',cities.schema['geometry'])"
   ]
  },
  {
   "cell_type": "code",
   "execution_count": 4,
   "metadata": {},
   "outputs": [],
   "source": [
    "# 获取原始矢量文件的 driver, crs, schema 等参数\n",
    "source_driver = cities.driver\n",
    "source_crs = cities.crs\n",
    "source_schema = cities.schema"
   ]
  },
  {
   "cell_type": "code",
   "execution_count": 5,
   "metadata": {},
   "outputs": [],
   "source": [
    "# 建立 WGS84 地理坐标系\n",
    "wgs = CRS.from_proj4(\"+proj=longlat +datum=WGS84 +no_defs\")"
   ]
  },
  {
   "cell_type": "code",
   "execution_count": 6,
   "metadata": {},
   "outputs": [],
   "source": [
    "# 构建 WGS84 地理坐标系转 Albers 投影坐标系的 Transformer\n",
    "transformer_wgs2albers = Transformer.from_crs(wgs,cities.crs,always_xy=True)"
   ]
  },
  {
   "cell_type": "code",
   "execution_count": 7,
   "metadata": {},
   "outputs": [
    {
     "data": {
      "text/plain": [
       "(-396910.84289483656, -885455.3704814231)"
      ]
     },
     "execution_count": 7,
     "metadata": {},
     "output_type": "execute_result"
    }
   ],
   "source": [
    "# 将经纬度点转化为 Albers 投影坐标系的坐标值\n",
    "point = (101, 27)\n",
    "point_prj = transformer_wgs2albers.transform(point[0], point[1])\n",
    "point_prj"
   ]
  },
  {
   "cell_type": "code",
   "execution_count": 8,
   "metadata": {},
   "outputs": [
    {
     "data": {
      "image/svg+xml": [
       "<svg xmlns=\"http://www.w3.org/2000/svg\" xmlns:xlink=\"http://www.w3.org/1999/xlink\" width=\"100.0\" height=\"100.0\" viewBox=\"-396911.84289483656 -885456.3704814231 2.0 2.0\" preserveAspectRatio=\"xMinYMin meet\"><g transform=\"matrix(1,0,0,-1,0,-1770910.7409628462)\"><circle cx=\"-396910.84289483656\" cy=\"-885455.3704814231\" r=\"0.06\" stroke=\"#555555\" stroke-width=\"0.02\" fill=\"#66cc99\" opacity=\"0.6\" /></g></svg>"
      ],
      "text/plain": [
       "<shapely.geometry.point.Point at 0x1e92af15880>"
      ]
     },
     "execution_count": 8,
     "metadata": {},
     "output_type": "execute_result"
    }
   ],
   "source": [
    "# 根据点坐标值实例化 shapely.geometry.Point 对象\n",
    "point_prj = Point(point_prj)\n",
    "point_prj"
   ]
  },
  {
   "cell_type": "code",
   "execution_count": 9,
   "metadata": {},
   "outputs": [
    {
     "data": {
      "image/svg+xml": [
       "<svg xmlns=\"http://www.w3.org/2000/svg\" xmlns:xlink=\"http://www.w3.org/1999/xlink\" width=\"300\" height=\"300\" viewBox=\"-720910.8428948366 -1209455.370481423 648000.0 648000.0\" preserveAspectRatio=\"xMinYMin meet\"><g transform=\"matrix(1,0,0,-1,0,-1770910.7409628462)\"><path fill-rule=\"evenodd\" fill=\"#66cc99\" stroke=\"#555555\" stroke-width=\"4320.0\" opacity=\"0.6\" d=\"M -96910.84289483656,-885455.3704814231 L -98355.42489317746,-914860.5125802913 L -102675.25877386739,-943982.4670862615 L -109828.74217517389,-972540.7736577617 L -119746.9831414505,-1000260.4001909499 L -132334.46359032998,-1026874.3915292223 L -147469.9592040729,-1052126.4403873037 L -165007.70688601534,-1075773.3557305166 L -184778.80853887214,-1097587.4048373871 L -206592.8576457427,-1117358.506490244 L -230239.77298895564,-1134896.2541721866 L -255491.82184703698,-1150031.7497859295 L -282105.8131853093,-1162619.230234809 L -309825.43971849745,-1172537.4712010857 L -338383.74628999765,-1179690.9546023922 L -367505.70079596795,-1184010.788483082 L -396910.8428948361,-1185455.370481423 L -426315.98499370425,-1184010.7884830823 L -455437.9394996745,-1179690.9546023924 L -483996.24607117474,-1172537.471201086 L -511715.8726043629,-1162619.2302348092 L -538329.8639426352,-1150031.74978593 L -563581.9128007167,-1134896.254172187 L -587228.8281439296,-1117358.5064902448 L -609042.8772508004,-1097587.4048373878 L -628813.9789036572,-1075773.3557305173 L -646351.7265855997,-1052126.4403873044 L -661487.2221993427,-1026874.3915292232 L -674074.7026482222,-1000260.4001909508 L -683992.943614499,-972540.7736577627 L -691146.4270158055,-943982.4670862624 L -695466.2608964955,-914860.5125802923 L -696910.8428948366,-885455.370481424 L -695466.2608964958,-856050.2283825559 L -691146.4270158058,-826928.2738765856 L -683992.9436144995,-798369.9673050854 L -674074.702648223,-770650.3407718972 L -661487.2221993436,-744036.3494336248 L -646351.7265856008,-718784.3005755434 L -628813.9789036585,-695137.3852323303 L -609042.8772508018,-673323.3361254598 L -587228.8281439311,-653552.2344726028 L -563581.9128007183,-636014.4867906603 L -538329.8639426371,-620878.9911769172 L -511715.87260436465,-608291.5107280376 L -483996.24607117655,-598373.2697617608 L -455437.93949967646,-591219.7863604543 L -426315.9849937063,-586899.9524797641 L -396910.84289483796,-585455.3704814231 L -367505.70079596987,-586899.9524797639 L -338383.74628999963,-591219.7863604537 L -309825.4397184992,-598373.26976176 L -282105.81318531104,-608291.5107280365 L -255491.8218470387,-620878.9911769158 L -230239.77298895735,-636014.4867906586 L -206592.8576457441,-653552.234472601 L -184778.80853887348,-673323.3361254577 L -165007.7068860166,-695137.3852323281 L -147469.95920407402,-718784.3005755409 L -132334.46359033085,-744036.3494336223 L -119746.98314145126,-770650.3407718946 L -109828.74217517447,-798369.9673050826 L -102675.25877386786,-826928.2738765826 L -98355.4248931777,-856050.2283825531 L -96910.84289483656,-885455.3704814231 z\" /></g></svg>"
      ],
      "text/plain": [
       "<shapely.geometry.polygon.Polygon at 0x1e92af15c70>"
      ]
     },
     "execution_count": 9,
     "metadata": {},
     "output_type": "execute_result"
    }
   ],
   "source": [
    "# 创建 buffer 对象\n",
    "point_buffer = point_prj.buffer(300000)\n",
    "point_buffer"
   ]
  },
  {
   "cell_type": "code",
   "execution_count": 10,
   "metadata": {},
   "outputs": [
    {
     "name": "stdout",
     "output_type": "stream",
     "text": [
      "楚雄市\n",
      "保山市\n",
      "大理市\n",
      "怒江傈僳族自治州\n",
      "泸水县\n",
      "东川市\n",
      "攀枝花市\n",
      "丽江纳西族自治县\n",
      "昭通市\n",
      "中甸县\n",
      "西昌市\n",
      "昆明市\n"
     ]
    }
   ],
   "source": [
    "# 生成输出矢量文件，driver, crs, schema 等参数与 china_cities.shp 矢量文件相同，使用 'utf-8' 编码避免中文属性值乱码\n",
    "target = fiona.open('./GeoData/influenced_points.shp', 'w', encoding='utf-8',\n",
    "                    driver=source_driver,\n",
    "                    crs=source_crs, \n",
    "                    schema=source_schema)\n",
    "\n",
    "# 循环遍历 china_cities.shp 中所有点，找寻在 buffer 区域内的点对象，并保存到新文件中\n",
    "for record in cities:\n",
    "    coordinates = record['geometry']['coordinates']\n",
    "    point = Point(coordinates)\n",
    "    if point_buffer.contains(point):\n",
    "        print(record['properties']['NAME'])\n",
    "        target.write(record)\n",
    "\n",
    "# 保存并关闭文件\n",
    "target.close()\n",
    "cities.close()"
   ]
  },
  {
   "cell_type": "code",
   "execution_count": null,
   "metadata": {},
   "outputs": [],
   "source": []
  }
 ],
 "metadata": {
  "kernelspec": {
   "display_name": "Python 3.9.2 64-bit ('gdal': conda)",
   "name": "python392jvsc74a57bd03e6834a85954fc01fc51189a6c4a5223ae07866dc62ebb3ed8d9377f00e6e18f"
  },
  "language_info": {
   "codemirror_mode": {
    "name": "ipython",
    "version": 3
   },
   "file_extension": ".py",
   "mimetype": "text/x-python",
   "name": "python",
   "nbconvert_exporter": "python",
   "pygments_lexer": "ipython3",
   "version": "3.9.2-final"
  }
 },
 "nbformat": 4,
 "nbformat_minor": 2
}